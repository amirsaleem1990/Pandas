{
 "cells": [
  {
   "cell_type": "code",
   "execution_count": 4,
   "metadata": {},
   "outputs": [],
   "source": [
    "%%bash\n",
    "IFS=$'\\n'\n",
    "for i in `find /home/amir/ -iname \"*.csv\"`; do \n",
    "    bash m.sh \"$i\" >> az_2\n",
    "done"
   ]
  },
  {
   "cell_type": "code",
   "execution_count": 5,
   "metadata": {},
   "outputs": [],
   "source": [
    "import pandas as pd\n",
    "l = [i.strip() for i in open(\"az_2\", 'r').read().split(\">>>>>>>>>>>>>>> \")]\n",
    "rows_to_consider = [i.count(\"\\n\") == 2 for i in l]\n",
    "l = pd.DataFrame(pd.Series(l).loc[rows_to_consider].str.split(\"\\n\").to_list())\n",
    "\n",
    "ind_to_drop = l[2].str.strip(\"Python: \").str.len().where(lambda x:x==0).dropna().index.to_list()\n",
    "l.drop(ind_to_drop, inplace=True)\n",
    "l[1] = l[1].str.strip(\"Python: \").astype(int)\n",
    "\n",
    "\n",
    "ind_to_drop = l[2].str.strip(\"R:      \").str.len().where(lambda x:x==0).dropna().index.to_list()\n",
    "l.drop(ind_to_drop, inplace=True)\n",
    "l[2] = l[2].str.strip(\"R:      \").astype(int)\n",
    "\n",
    "\n",
    "l.columns = ['File', 'Python', 'R']\n",
    "\n",
    "\n",
    "l['Python/R'] = l.Python / l.R\n",
    "\n",
    "df = l.copy()"
   ]
  },
  {
   "cell_type": "code",
   "execution_count": 8,
   "metadata": {},
   "outputs": [
    {
     "data": {
      "text/plain": [
       "<AxesSubplot:>"
      ]
     },
     "execution_count": 8,
     "metadata": {},
     "output_type": "execute_result"
    },
    {
     "data": {
      "image/png": "[encoded data removed]",
      "text/plain": [
       "<Figure size 432x288 with 1 Axes>"
      ]
     },
     "metadata": {
      "needs_background": "light"
     },
     "output_type": "display_data"
    }
   ],
   "source": [
    "df['Python/R'].plot(kind='box', grid=True)"
   ]
  },
  {
   "cell_type": "code",
   "execution_count": 9,
   "metadata": {},
   "outputs": [
    {
     "data": {
      "text/plain": [
       "<AxesSubplot:ylabel='Frequency'>"
      ]
     },
     "execution_count": 9,
     "metadata": {},
     "output_type": "execute_result"
    },
    {
     "data": {
      "image/png": "[encoded data removed]",
      "text/plain": [
       "<Figure size 432x288 with 1 Axes>"
      ]
     },
     "metadata": {
      "needs_background": "light"
     },
     "output_type": "display_data"
    }
   ],
   "source": [
    "df['Python/R'].plot(kind='hist', grid=True)"
   ]
  },
  {
   "cell_type": "code",
   "execution_count": null,
   "metadata": {},
   "outputs": [],
   "source": []
  }
 ],
 "metadata": {
  "kernelspec": {
   "display_name": "Python 3",
   "language": "python",
   "name": "python3"
  },
  "language_info": {
   "codemirror_mode": {
    "name": "ipython",
    "version": 3
   },
   "file_extension": ".py",
   "mimetype": "text/x-python",
   "name": "python",
   "nbconvert_exporter": "python",
   "pygments_lexer": "ipython3",
   "version": "3.8.5"
  }
 },
 "nbformat": 4,
 "nbformat_minor": 4
}
